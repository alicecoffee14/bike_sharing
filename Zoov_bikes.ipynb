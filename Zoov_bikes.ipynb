{
 "cells": [
  {
   "cell_type": "markdown",
   "metadata": {},
   "source": [
    "# Model and visualize some Key Performance Indicators of a bike sharing service\n",
    "### You operate a fleet of 1000 bikes over 5 different cities. Here data of the year 2020 are generated from scratch to emulated the service usage.\n",
    "The following code performs a generation of a dataset and produces a csv output file with the granularity of one row per day and per city. The code is structured in different parts: firstly useful functions and variables for data generation are defined, these are used afterwards in the main block of the code where a loop over all days of 2020 contains a second loop over the 5 cities selected. For each pair day-city the colums of the csv file are filled with suitable indicators. "
   ]
  },
  {
   "cell_type": "markdown",
   "metadata": {},
   "source": [
    "We assumed that the number of bike trips per day depends on key parameters such as: weather conditions, season and temperature, which in turn are different for each city. Once we estimated the number of bike trips we can model the number of bike users per day. These are divided in two categories: registered users, that made a subscription to our service and pay a fixed monthly fee to obtain a lower price per minute, and occasional users. An increase of registered users during the year due to some perfoemance improvements and increase of popularity of our service is modeled. With this is mind and some assumption on the average bike ride time and frequency, we compute the minutes of bike usage per day and the relative income in euros. Finally, we give an estimation of the costumer satisfactions and the amount of new subscriptions per day. "
   ]
  },
  {
   "cell_type": "code",
   "execution_count": 39,
   "metadata": {},
   "outputs": [],
   "source": [
    "import csv\n",
    "import pandas as pd\n",
    "from datetime import date, timedelta\n",
    "import random"
   ]
  },
  {
   "cell_type": "markdown",
   "metadata": {},
   "source": [
    "We start from date generation: from 1 Jan 2020 to 31 Dec 2020 using datetime package.\n",
    "These variables are used in the main loop to fill the first column of the dataset with \n",
    "year-day-month."
   ]
  },
  {
   "cell_type": "code",
   "execution_count": 40,
   "metadata": {},
   "outputs": [],
   "source": [
    "# variables for date generation from 1 Jan 2020 to 31 Dec 2020\n",
    "sdate = date(2020, 1, 1)   # start date\n",
    "edate = date(2020, 12, 31)   # end date\n",
    "\n",
    "delta = edate - sdate       # timedelta "
   ]
  },
  {
   "cell_type": "markdown",
   "metadata": {},
   "source": [
    "Definiton of a list with the cities where our bikes are availiable.\n",
    "We assume all the cities to have the same totl number of bikes. This value well be later reduced to take into account possible bike malfunctioning."
   ]
  },
  {
   "cell_type": "code",
   "execution_count": 41,
   "metadata": {},
   "outputs": [],
   "source": [
    "city_list = ['Paris', 'Milan', 'Madrid', 'Berlin', 'London']\n",
    "bikes_per_city = 200"
   ]
  },
  {
   "cell_type": "markdown",
   "metadata": {},
   "source": [
    "An important factor impacting the number of bike trips per day is the weather. \n",
    "Since each city has a peculiar local weather, we construct a list of weigths \n",
    "descibing the probability for a given city ho have a certain weather condition.\n",
    "This is an estimation averaged over the whole year.\n",
    "For example in Paris there is 20% probability to have a sunny day and 35% to have a cloudy one."
   ]
  },
  {
   "cell_type": "code",
   "execution_count": 42,
   "metadata": {},
   "outputs": [],
   "source": [
    "city_weather = ['clear', 'cloudy', 'light rain', 'heavy rain']\n",
    "\n",
    "# probability of being: clear, cloudy, light rain or heavy rain\n",
    "weigths_paris = [0.2, 0.35, 0.3, 0.15]\n",
    "weigths_milan = [0.3, 0.2, 0.3, 0.2]\n",
    "weigths_madrid = [0.4, 0.2, 0.2, 0.2]\n",
    "weigths_berlin = [0.2, 0.3, 0.35, 0.15]\n",
    "weigths_london = [0.15, 0.3, 0.4, 0.15]"
   ]
  },
  {
   "cell_type": "markdown",
   "metadata": {},
   "source": [
    "The temperature is also an important factor to consider for estimating bike usage.\n",
    "The temperature depends on the city and on the season. We construct lists which gives the average temperature for each city in a given season."
   ]
  },
  {
   "cell_type": "code",
   "execution_count": 43,
   "metadata": {},
   "outputs": [],
   "source": [
    "def average_temperature(date):\n",
    "    # season identification depending on the date\n",
    "    seasons = {'spring': pd.date_range(start='2020-03-20', end='2020-06-20', closed='left'),\n",
    "               'summer': pd.date_range(start='2020-06-20', end='2020-09-22', closed='left'),\n",
    "               'autumn': pd.date_range(start='2020-09-22', end='2020-12-20', closed='left')}\n",
    "    if date in seasons['spring']:\n",
    "        #average temperature in Paris, Milan, Madrid, Berlin, London in Spring\n",
    "        t = [14, 16, 18, 12, 13, 'spring']\n",
    "        return t\n",
    "    if date in seasons['summer']:\n",
    "        #average temperature in Paris, Milan, Madrid, Berlin, London in Spring\n",
    "        t = [24, 28, 30, 23, 21, 'summer']\n",
    "        return t\n",
    "    if date in seasons['autumn']:\n",
    "        #average temperature in Paris, Milan, Madrid, Berlin, London in Spring\n",
    "        t = [13, 16, 19, 11, 12, 'autumn']\n",
    "        return t\n",
    "    else:\n",
    "        #average temperature in Paris, Milan, Madrid, Berlin, London in Spring\n",
    "        t = [5, 7, 10, 2, 2, 'winter']\n",
    "        return t"
   ]
  },
  {
   "cell_type": "markdown",
   "metadata": {},
   "source": [
    "The following function gives the temperature and weather estimation according to the season and the city: for each city it picks the weather using the probaility of having a given weather condition previously defined as a list of weigths. The temperature is estimated from the list containing the average temperature of a given city in a given season using the function 'average_temperature': a gaussian smoothing of 5 degrees standard deviation is applied to take into account eventual fluctuations. The season is also returned."
   ]
  },
  {
   "cell_type": "code",
   "execution_count": 44,
   "metadata": {},
   "outputs": [],
   "source": [
    " def condition_estimation(city):\n",
    "    if city == 'Paris':\n",
    "        weather = random.choices(city_weather, weigths_paris)\n",
    "        t = average_temperature(day) \n",
    "        # t is a list with average temperature in Paris, Milan, Madrid, Berlin, London and season \n",
    "        temperature = round(random.gauss(t[0], 5),2)\n",
    "    if city == 'Milan':\n",
    "        weather = random.choices(city_weather, weigths_milan)\n",
    "        t = average_temperature(day)\n",
    "        temperature = round(random.gauss(t[1], 5),2)\n",
    "    if city == 'Madrid':\n",
    "        weather = random.choices(city_weather, weigths_madrid)\n",
    "        t = average_temperature(day)\n",
    "        temperature = round(random.gauss(t[2], 5),2)\n",
    "    if city == 'Berlin':\n",
    "        weather = random.choices(city_weather, weigths_berlin)\n",
    "        t = average_temperature(day)\n",
    "        temperature = round(random.gauss(t[3], 5),2)\n",
    "    if city == 'London':\n",
    "        weather = random.choices(city_weather, weigths_london)\n",
    "        t = average_temperature(day)\n",
    "        temperature = round(random.gauss(t[4], 5),2)\n",
    "                \n",
    "    season = t[5]\n",
    "    condition = [temperature, season, weather]\n",
    "    return condition"
   ]
  },
  {
   "cell_type": "markdown",
   "metadata": {},
   "source": [
    "Here we want to estimate the average number of trips per day, making some assumptions: suppose each bike is taken every 20 minutes (averaged over the year for all cities), therefore each bike provides in average about 3 rides per hour and 72 rides per day (~24hx60min/20min). Considering about 7 'night' hours per day, where the probability for a bike to be rented is reduced by a factor 3 (meaning 1 ride per hour), we have :\n",
    "(24h - 7h)x 3 rides + 7h x 1 ride = about 58 rides per day. "
   ]
  },
  {
   "cell_type": "code",
   "execution_count": 45,
   "metadata": {},
   "outputs": [],
   "source": [
    "av_rides_1day_1bike = 58 "
   ]
  },
  {
   "cell_type": "markdown",
   "metadata": {},
   "source": [
    "We can also suppose that the number of bike rides goes smoothly linearly with the temperature:\n",
    "assuming that if with 0 degrees the possible number of bike rides is only 10% of the average (58x0.1 = 5.8)\n",
    "and if with 25 degrees the possible number of bike rides is 120% of the average (58x1.2 = 69.6) \n",
    "the linear beheaviour is described by:\n",
    "bike rides per day = 2.6 x temperature + 5.8. The following function implement the temperature dependence to compute the bike rides per bike and per day.\n",
    "If the temperature is too high (ex. more than 30 degrees) it is likely that users avoid to move with bikes, so a decrease of number of bike rides of around 3% in introduced for too high temperatures. "
   ]
  },
  {
   "cell_type": "code",
   "execution_count": 46,
   "metadata": {},
   "outputs": [],
   "source": [
    "def temperature_dep(temp):\n",
    "    #linear dependence extracted from assumptions of average number of bike rides with a given temperature\n",
    "    rides = round(2.6*temperature+5.8,2)\n",
    "    # gaussian sampling with 5 bike rides standard deviation to add randomness\n",
    "    rides = random.gauss(rides, 10)\n",
    "    # control that rides are always > 0: extremely unlikely to have 0 rides, it can be excluded for \n",
    "    # make the calculation safe\n",
    "    if rides <= 0:\n",
    "        rides=1\n",
    "    if temp > 30.0:\n",
    "        rides = rides - abs(random.gauss(rides*0.05,rides*0.02))\n",
    "    return rides"
   ]
  },
  {
   "cell_type": "markdown",
   "metadata": {},
   "source": [
    "Bike occupation, namely the number of bikes used in a given weather condition with respect to the average, depends on the weather: define a list giving the percentage of all alviable bikes used \n",
    "with a given weather condition."
   ]
  },
  {
   "cell_type": "code",
   "execution_count": 47,
   "metadata": {},
   "outputs": [],
   "source": [
    "# bike occupation if 1:clear, 2:cloudy, 3:light rain, 4: heavy rain\n",
    "bike_occupation = [0.95, 0.75, 0.35, 0.15]"
   ]
  },
  {
   "cell_type": "markdown",
   "metadata": {},
   "source": [
    "There are two types of users: occasional users and registered users. \n",
    "The second type subscribed an enrollement for bike sharing for which they have lower prices for bike rides.\n",
    "We estimate the percentage of registered users assuming that an optimistic increased of enrolled users of 20% is observed during 2020: 50% of the total users are registered ones in January while the percentage becomes 70% in December of the same year. With this value we model the linear dependence.\n",
    "We smooth the linear dependence with a gaussian sampling to take into account possible fluctuations of about 5%."
   ]
  },
  {
   "cell_type": "code",
   "execution_count": 48,
   "metadata": {},
   "outputs": [],
   "source": [
    "def user_type(users, date):    \n",
    "    # linear growth of registered users describing a 20% increase during 2020\n",
    "    percentage_registered_users = 0.018*date.month + 0.48\n",
    "    registered_users = percentage_registered_users*users\n",
    "    #gaussian smoothing with 5% std\n",
    "    registered_users = abs(random.gauss(registered_users, registered_users*0.05))\n",
    "    \n",
    "    return registered_users"
   ]
  },
  {
   "cell_type": "markdown",
   "metadata": {},
   "source": [
    "Estimate the total ride time for all bikes in a given city and given day: assume that each trip is is average 15 minutes long, gaussian distributed with a standard deviation of 10 minutes. For possible improvements: note that, the gaussian distribution is over simplicistic beacuse it does not include possible long rides (.i.e. probablity of 1 hour rides is very very low while in reality it could happen), a gaussian distribution with a longer tails towards long bike trips could be more adapt. The average ride time is multiplied by the average number of rides per day. A very rough estimation of the waiting time due to the lack of bikes is also given and a penalty for long waiting time is added."
   ]
  },
  {
   "cell_type": "code",
   "execution_count": 49,
   "metadata": {},
   "outputs": [],
   "source": [
    "def ride_time_calc(rides, avaliable_bikes):            \n",
    "    ride_time = round(rides * abs(random.gauss(15, 10)),1)\n",
    "    # as a control: total ride time is wht we have if all availiable bikes are take all day\n",
    "    # the computed ride time should be less than the total ride time \n",
    "    # if it is more it is considered as waiting time to get a bike\n",
    "    tot_ride_time = round(24*60*avaliable_bikes,2) #24hx60min x all bike available\n",
    "    #possible difference is take as waiting time\n",
    "    if ride_time >= tot_ride_time:\n",
    "        waiting_time = ride_time - tot_ride_time\n",
    "    else:\n",
    "        waiting_time = 0\n",
    "    time = [ride_time, waiting_time]\n",
    "    return time\n"
   ]
  },
  {
   "cell_type": "markdown",
   "metadata": {},
   "source": [
    "This functions estimates the price per ride for the two types of users: prices differ if the user has \n",
    "a subscription or if he does not. Note that it is always convenient for the bike sharing service to have registered users: despite the lower price per minute, the subscription ensures a fix fee per month and a regular usage of our bikes."
   ]
  },
  {
   "cell_type": "code",
   "execution_count": 50,
   "metadata": {},
   "outputs": [],
   "source": [
    "def price(minutes, registered_users, occasional_users):\n",
    "    #percentage of registered/occasional users\n",
    "    reg_fraction = registered_users/(registered_users+occasional_users)\n",
    "    occ_fraction = occasional_users/(registered_users+occasional_users)\n",
    "    #fees for the two users\n",
    "    minute_fee_reg = 0.30  #30 cents per minutes\n",
    "    minute_fee_occ = 0.50 #50 cents per minutes\n",
    "    \n",
    "    fee = minutes*reg_fraction*0.30 + minutes*occ_fraction*0.50\n",
    "    \n",
    "    return fee"
   ]
  },
  {
   "cell_type": "markdown",
   "metadata": {},
   "source": [
    "Costumer satisfaction evaluation. A 20% increase in observed due to performance improvements and app popularity and modeled as a linear function depending on the month. A negative impact due to waiting time is included while if many bikes are available a positive impact is introduced."
   ]
  },
  {
   "cell_type": "code",
   "execution_count": 51,
   "metadata": {},
   "outputs": [],
   "source": [
    "def customer_satisfaction(date, waiting_time, ava_bikes):    \n",
    "    # linear growth of satisfaction describing a 20% increase during 2020 due to\n",
    "    # performance improvements\n",
    "    evaluation = 0.18*date.month + 5.8 + 0.005*date.day\n",
    "    #gaussian smoothing\n",
    "    evaluation = abs(random.gauss(evaluation, evaluation*0.1))\n",
    "    # limits the results between 0 and 10\n",
    "    if evaluation > 10:\n",
    "        evaluation = 10\n",
    "    #negative impact if non negligible waiting time\n",
    "    if waiting_time>0:\n",
    "        evaluation = evaluation - abs(random.gauss(0.1, 0.01)) \n",
    "    if ava_bikes > 195: \n",
    "        evaluation = evaluation + abs(random.gauss(0.1, 0.01)) \n",
    "    return evaluation"
   ]
  },
  {
   "cell_type": "markdown",
   "metadata": {},
   "source": [
    "Total number of new subscriptions to the bike sharing app for each city. During 2020 a global increase of new subscriptions has been observed.\n",
    "This function assumes a different increase of registered users per city: for example in Paris we set a threshold of 0.75, meaning that 3/4 of the days the number of registrations increase while 1/4 of the time we observe unsubscriptions. Berlin has the highest increase beacuse, despite the bad weather, germans are very environmental attentive and our marketing strategy worked well in this city. London has the lowest increase because many bike sharing competitors are present in the city.\n",
    "We assume a random gaussian increase or decrease of subcriptions with a mean of 5 and standard deviation of 3. Given than we have 200 bikes +-5 new users per day seems a reasonable amount."
   ]
  },
  {
   "cell_type": "code",
   "execution_count": 52,
   "metadata": {},
   "outputs": [],
   "source": [
    "threshold_per_city= {'Paris':0.75, 'Milan':0.65,'Madrid': 0.6, 'Berlin':0.85,'London': 0.52}\n",
    "def new_subscription(city):\n",
    "    # sampling uniformly between 0 and 1\n",
    "    r = random.uniform(0, 1)\n",
    "    # apply the threshold to estimate if increase or decrease of registered users\n",
    "    #increase\n",
    "    if r < threshold_per_city[city]:\n",
    "        new_subscriptions = abs(random.gauss(5,2))\n",
    "    #decrease\n",
    "    if r > threshold_per_city[city]:\n",
    "        new_subscriptions = -abs(random.gauss(5,2))\n",
    "    return new_subscriptions"
   ]
  },
  {
   "cell_type": "markdown",
   "metadata": {},
   "source": [
    "Main loop creating the cvs file and filling all the columns."
   ]
  },
  {
   "cell_type": "code",
   "execution_count": 53,
   "metadata": {},
   "outputs": [],
   "source": [
    "# Open the csv file we want to fill with our data in writing mode\n",
    "with open('bike_summary.csv', 'w', encoding='UTF8', newline='') as f:\n",
    "    writer = csv.writer(f)\n",
    "    \n",
    "    #define the header\n",
    "    header = ['date', 'month','city', 'available bikes', 'season', 'weather condition', 'temperature (degree C)', 'trips per bike','total bike trips', 'number of users', 'registered users (%)', 'occasional_users (%)', 'tot bike trip duration (min)', 'day income (euros)', 'customer satisfaction', 'new day subscriptions']\n",
    "    # write the header\n",
    "    writer.writerow(header)    \n",
    "    \n",
    "    #loop over all days of 2020\n",
    "    for i in range(delta.days + 1):\n",
    "        day = sdate + timedelta(days=i)\n",
    "        \n",
    "        #loop over all 5 cities\n",
    "        for city in city_list:\n",
    "            \n",
    "            # estimate the number of avaliable bikes considering av average of 10 broken bikes\n",
    "            # with 5 bikes gaussian incertitude. Constant over the year\n",
    "            avaliable_bikes = bikes_per_city - abs(random.gauss(10, 5))\n",
    "            \n",
    "            # estimate weather and temperature conditions and keep track of the season\n",
    "            condition = condition_estimation(city)\n",
    "            temperature = condition[0]\n",
    "            season = condition[1]\n",
    "            weather = condition[2]\n",
    "\n",
    "            #estimation of rides per bike and per day adding temperature dependence\n",
    "            rides_1bike_1day = temperature_dep(temperature)\n",
    "            \n",
    "            #considering all avaliable bikes: bike rides per day\n",
    "            rides_1day = rides_1bike_1day * avaliable_bikes\n",
    "\n",
    "            # correct the number of bike rides per day by bike occupation which depends on the weather\n",
    "            # here we use a previously defined weigths, different for each city ([0]=Paris, [1]=Milan...)\n",
    "            if weather[0] == 'clear':\n",
    "                rides = rides_1day * bike_occupation[0]\n",
    "            if weather[0] == 'cloudy':\n",
    "                rides = rides_1day * bike_occupation[1]\n",
    "            if weather[0] == 'light rain':\n",
    "                rides = rides_1day * bike_occupation[2]\n",
    "            if weather[0] == 'heavy rain':\n",
    "                rides = rides_1day * bike_occupation[3]\n",
    "            \n",
    "            # estimate the number of users: it should be less than the bike rides:\n",
    "            # we assume that about 20% of the trip are made by the same user and smooth\n",
    "            # with a gaussian distribution with 5% standard dev\n",
    "            users = rides - abs(random.gauss(rides*0.20, rides*0.05))\n",
    "            \n",
    "            # estimated the type of users in percentage\n",
    "            registered_users = user_type(users,day)\n",
    "            occasional_users = users - registered_users    \n",
    "            \n",
    "            # estimate the total ride time\n",
    "            ride_time = ride_time_calc(rides, avaliable_bikes)  \n",
    "            \n",
    "            #estimate the price of all bike trips depending on user type\n",
    "            ride_prices = round(price(ride_time[0], registered_users, occasional_users),1)\n",
    "            \n",
    "            # estimated the type of users in percentage: more useful for data visualization\n",
    "            registered_users = registered_users/users*100\n",
    "            occasional_users = occasional_users/users*100\n",
    "            \n",
    "            #custumer stfistafction\n",
    "            safisfaction = round(customer_satisfaction(day, ride_time[1], avaliable_bikes),2)\n",
    "            \n",
    "            #new subscriptions of the day (negative or positive)\n",
    "            day_subscriptions =  new_subscription(city)\n",
    "            \n",
    "\n",
    "            #fill the file\n",
    "            data =[day, day.month, city, int(avaliable_bikes), season, weather[0], temperature, int(rides_1bike_1day),int(rides), int(users), round(registered_users,1), round(occasional_users,1), ride_time[0], ride_prices, safisfaction, int(day_subscriptions)]\n",
    "            # write the data\n",
    "            writer.writerow(data)"
   ]
  },
  {
   "cell_type": "code",
   "execution_count": null,
   "metadata": {},
   "outputs": [],
   "source": []
  },
  {
   "cell_type": "code",
   "execution_count": null,
   "metadata": {},
   "outputs": [],
   "source": []
  },
  {
   "cell_type": "code",
   "execution_count": null,
   "metadata": {},
   "outputs": [],
   "source": []
  },
  {
   "cell_type": "code",
   "execution_count": null,
   "metadata": {},
   "outputs": [],
   "source": []
  },
  {
   "cell_type": "code",
   "execution_count": null,
   "metadata": {},
   "outputs": [],
   "source": []
  },
  {
   "cell_type": "code",
   "execution_count": null,
   "metadata": {},
   "outputs": [],
   "source": []
  }
 ],
 "metadata": {
  "kernelspec": {
   "display_name": "Python 3",
   "language": "python",
   "name": "python3"
  },
  "language_info": {
   "codemirror_mode": {
    "name": "ipython",
    "version": 3
   },
   "file_extension": ".py",
   "mimetype": "text/x-python",
   "name": "python",
   "nbconvert_exporter": "python",
   "pygments_lexer": "ipython3",
   "version": "3.7.1"
  }
 },
 "nbformat": 4,
 "nbformat_minor": 2
}
